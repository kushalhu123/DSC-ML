{
 "cells": [
  {
   "cell_type": "markdown",
   "metadata": {},
   "source": [
    "PROBLEM 1\n"
   ]
  },
  {
   "cell_type": "code",
   "execution_count": 1,
   "metadata": {},
   "outputs": [
    {
     "name": "stdout",
     "output_type": "stream",
     "text": [
      "enter the moviedark\n",
      "It is  thriller\n"
     ]
    }
   ],
   "source": [
    "thrill=[\"Dark\",\"Mindhunter\",\"Parasite\",\"Inception\",\"Insidious\",\"Interstellar\",\"Prison Break\",\"Money Heist\",\"War\",\"Jack Ryan\"]\n",
    "comedy=[\"Friends\",\"3 Idiots\",\"Brooklyn 99\",\"How I Met Your Mother\",\"Rick And Morty\",\"The Big Bang Theory\",\"The Office\",\"Space Force\"]\n",
    "name=input('enter the movie')\n",
    "if name.lower() in [x.lower() for x in thrill]:\n",
    "    print(\"It is  thriller\")\n",
    "elif name.lower() in [y.lower() for y in comedy]:\n",
    "    print(\"It is comedy\")\n",
    "else:\n",
    "    print(\"It's neither comedy nor thriller\")"
   ]
  },
  {
   "cell_type": "markdown",
   "metadata": {},
   "source": [
    "PROBLEM 2"
   ]
  },
  {
   "cell_type": "code",
   "execution_count": 5,
   "metadata": {},
   "outputs": [
    {
     "name": "stdout",
     "output_type": "stream",
     "text": [
      "5\n",
      "1 2 1 1 2\n",
      "2\n"
     ]
    }
   ],
   "source": [
    "\n",
    "n=int(input())\n",
    "\n",
    "gloves= [int(i) for i in input().split()]\n",
    "gloves.sort()\n",
    "count=0\n",
    "i=0\n",
    "while i<n-1:\n",
    "    if i==n:\n",
    "        break\n",
    "    if gloves[i]==gloves[i+1]:\n",
    "        count+=1\n",
    "        i+=2\n",
    "    else:\n",
    "        if i==n:\n",
    "            break\n",
    "        i+=1\n",
    "print(count)"
   ]
  },
  {
   "cell_type": "code",
   "execution_count": null,
   "metadata": {},
   "outputs": [],
   "source": []
  }
 ],
 "metadata": {
  "kernelspec": {
   "display_name": "Python 3",
   "language": "python",
   "name": "python3"
  },
  "language_info": {
   "codemirror_mode": {
    "name": "ipython",
    "version": 3
   },
   "file_extension": ".py",
   "mimetype": "text/x-python",
   "name": "python",
   "nbconvert_exporter": "python",
   "pygments_lexer": "ipython3",
   "version": "3.7.4"
  }
 },
 "nbformat": 4,
 "nbformat_minor": 2
}
